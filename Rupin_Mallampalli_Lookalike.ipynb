{
 "cells": [
  {
   "cell_type": "code",
   "execution_count": 1,
   "id": "668bbfa9",
   "metadata": {},
   "outputs": [],
   "source": [
    "import pandas as pd\n",
    "from sklearn.metrics.pairwise import cosine_similarity\n",
    "from sklearn.preprocessing import StandardScaler"
   ]
  },
  {
   "cell_type": "code",
   "execution_count": 2,
   "id": "0db1862e",
   "metadata": {},
   "outputs": [],
   "source": [
    "transactions_df = pd.read_csv(\"Transactions.csv\")"
   ]
  },
  {
   "cell_type": "code",
   "execution_count": 3,
   "id": "f74359ee",
   "metadata": {},
   "outputs": [],
   "source": [
    "products_df = pd.read_csv(\"Products.csv\")"
   ]
  },
  {
   "cell_type": "code",
   "execution_count": 4,
   "id": "36622deb",
   "metadata": {},
   "outputs": [],
   "source": [
    "customers_df = pd.read_csv(\"Customers.csv\")"
   ]
  },
  {
   "cell_type": "code",
   "execution_count": 5,
   "id": "9054dc1d",
   "metadata": {},
   "outputs": [],
   "source": [
    "merged_df = transactions_df.merge(products_df, on=\"ProductID\", how=\"left\") \\\n",
    "                           .merge(customers_df, on=\"CustomerID\", how=\"left\")"
   ]
  },
  {
   "cell_type": "code",
   "execution_count": 6,
   "id": "b77e3378",
   "metadata": {},
   "outputs": [],
   "source": [
    "customer_profile = merged_df.groupby(\"CustomerID\").agg(\n",
    "    total_spent=(\"TotalValue\", \"sum\"),\n",
    "    avg_spent=(\"TotalValue\", \"mean\"),\n",
    "    total_transactions=(\"TransactionID\", \"count\"),\n",
    "    unique_products=(\"ProductID\", \"nunique\"),\n",
    "    unique_categories=(\"Category\", \"nunique\")\n",
    ").reset_index()"
   ]
  },
  {
   "cell_type": "code",
   "execution_count": 7,
   "id": "a60848b6",
   "metadata": {},
   "outputs": [],
   "source": [
    "scaler = StandardScaler()\n",
    "customer_features = customer_profile.drop(columns=[\"CustomerID\"])\n",
    "customer_features_normalized = scaler.fit_transform(customer_features)"
   ]
  },
  {
   "cell_type": "code",
   "execution_count": 8,
   "id": "336df388",
   "metadata": {},
   "outputs": [],
   "source": [
    "similarity_matrix = cosine_similarity(customer_features_normalized)\n",
    "similarity_df = pd.DataFrame(similarity_matrix, index=customer_profile.CustomerID, columns=customer_profile.CustomerID)"
   ]
  },
  {
   "cell_type": "code",
   "execution_count": 9,
   "id": "2b4488ed",
   "metadata": {},
   "outputs": [],
   "source": [
    "lookalike_map = {}\n",
    "target_customers = customer_profile.CustomerID[:20]"
   ]
  },
  {
   "cell_type": "code",
   "execution_count": 10,
   "id": "2b4bc8ab",
   "metadata": {},
   "outputs": [],
   "source": [
    "for customer_id in target_customers:\n",
    "    similar_customers = similarity_df[customer_id].sort_values(ascending=False)\n",
    "    similar_customers = similar_customers.drop(customer_id)\n",
    "    top_3 = similar_customers.head(3)\n",
    "    lookalike_map[customer_id] = [(cust_id, score) for cust_id, score in top_3.items()]"
   ]
  },
  {
   "cell_type": "code",
   "execution_count": 11,
   "id": "165ed41a",
   "metadata": {},
   "outputs": [
    {
     "name": "stdout",
     "output_type": "stream",
     "text": [
      "Lookalike recommendations saved to Lookalike.csv\n"
     ]
    }
   ],
   "source": [
    "lookalike_df = pd.DataFrame([\n",
    "    {\"CustomerID\": cust_id, \"Lookalikes\": str(recommendations)}\n",
    "    for cust_id, recommendations in lookalike_map.items()\n",
    "])\n",
    "\n",
    "output_file = \"Lookalike.csv\"\n",
    "lookalike_df.to_csv(output_file, index=False)\n",
    "print(f\"Lookalike recommendations saved to {output_file}\")"
   ]
  },
  {
   "cell_type": "code",
   "execution_count": null,
   "id": "bb731f79",
   "metadata": {},
   "outputs": [],
   "source": []
  }
 ],
 "metadata": {
  "kernelspec": {
   "display_name": "Python 3 (ipykernel)",
   "language": "python",
   "name": "python3"
  },
  "language_info": {
   "codemirror_mode": {
    "name": "ipython",
    "version": 3
   },
   "file_extension": ".py",
   "mimetype": "text/x-python",
   "name": "python",
   "nbconvert_exporter": "python",
   "pygments_lexer": "ipython3",
   "version": "3.11.4"
  }
 },
 "nbformat": 4,
 "nbformat_minor": 5
}
